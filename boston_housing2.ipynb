{
 "cells": [
  {
   "cell_type": "code",
   "execution_count": 2,
   "metadata": {},
   "outputs": [],
   "source": [
    "# description\n",
    "# https://www.kaggle.com/c/boston-housing\n",
    "\n",
    "# TensorFlow and tf.keras\n",
    "import tensorflow\n",
    "from tensorflow.keras.models import Sequential\n",
    "from tensorflow.keras.layers import Dense\n",
    "\n",
    "# Helper libraries\n",
    "import numpy as np\n",
    "import matplotlib.pyplot as plt"
   ]
  },
  {
   "cell_type": "markdown",
   "metadata": {},
   "source": [
    "### Data 준비하기"
   ]
  },
  {
   "cell_type": "code",
   "execution_count": 3,
   "metadata": {},
   "outputs": [],
   "source": [
    "(x_train, y_train), (x_test, y_test) = tensorflow.keras.datasets.boston_housing.load_data(path='boston_housing.npz')"
   ]
  },
  {
   "cell_type": "code",
   "execution_count": 4,
   "metadata": {},
   "outputs": [
    {
     "data": {
      "text/plain": [
       "(102,)"
      ]
     },
     "execution_count": 4,
     "metadata": {},
     "output_type": "execute_result"
    }
   ],
   "source": [
    "x_train.shape\n",
    "y_train.shape\n",
    "x_test.shape # 전체 data의 1/4 정도 밖에 안 씀\n",
    "y_test.shape"
   ]
  },
  {
   "cell_type": "code",
   "execution_count": 9,
   "metadata": {
    "scrolled": true
   },
   "outputs": [
    {
     "data": {
      "text/plain": [
       "[<matplotlib.lines.Line2D at 0x269f8ee46a0>]"
      ]
     },
     "execution_count": 9,
     "metadata": {},
     "output_type": "execute_result"
    },
    {
     "data": {
      "image/png": "[encoded data removed]",
      "text/plain": [
       "<Figure size 432x288 with 1 Axes>"
      ]
     },
     "metadata": {
      "needs_background": "light"
     },
     "output_type": "display_data"
    }
   ],
   "source": [
    "plt.plot(x_train[:,3], y_train, '.') # x의 한 가지 factor와 y와의 관계를 알고 싶을 때 "
   ]
  },
  {
   "cell_type": "markdown",
   "metadata": {},
   "source": [
    "### model 만들기\n",
    "    더 정교한 모델을 위해서는 hidden layer을 추가할 수 있다. \n",
    "    hidden layer에 몇개의 node를 넣을 지는 필요에 따라 다름. \n",
    "    node를 잇는 화살표는 무조건 행렬. \n",
    "    성능에 영향을 미치는 것\n",
    "    1) hidden layer의 수\n",
    "    2) hidden layer의 node의 수\n",
    "    3) epoch의 수\n",
    "    4) activation - nonlinearity 부과\n",
    "    ( sigmoid:모든 수를 0하고 1사이로 ,tanh: -1부터 1사이로, relu: 음수는 0으로, 양수는 그대로, softmax: 총합이 1이 되도록)\n",
    "    \n",
    "    model summary 에서 param #의 의미: 화살표의 개수\n",
    "    140= (13+1)*10\n",
    "    11=(10+1)"
   ]
  },
  {
   "cell_type": "code",
   "execution_count": 18,
   "metadata": {
    "scrolled": false
   },
   "outputs": [
    {
     "name": "stdout",
     "output_type": "stream",
     "text": [
      "_________________________________________________________________\n",
      "Layer (type)                 Output Shape              Param #   \n",
      "=================================================================\n",
      "dense_4 (Dense)              (None, 10)                140       \n",
      "_________________________________________________________________\n",
      "dense_5 (Dense)              (None, 1)                 11        \n",
      "=================================================================\n",
      "Total params: 151\n",
      "Trainable params: 151\n",
      "Non-trainable params: 0\n",
      "_________________________________________________________________\n"
     ]
    }
   ],
   "source": [
    "model = Sequential()\n",
    "model.add(Dense(10, input_shape=[13], activation='relu'))\n",
    "model.add(Dense(1))\n",
    "model.compile(optimizer='rmsprop', loss='mse')\n",
    "model.summary()"
   ]
  },
  {
   "cell_type": "markdown",
   "metadata": {},
   "source": [
    "### 모델 훈련하기-model.fit (=train)"
   ]
  },
  {
   "cell_type": "code",
   "execution_count": 19,
   "metadata": {
    "scrolled": false
   },
   "outputs": [
    {
     "name": "stdout",
     "output_type": "stream",
     "text": [
      "Epoch 1/100\n",
      "404/404 [==============================] - 2s 6ms/sample - loss: 36570.5410\n",
      "Epoch 2/100\n",
      "404/404 [==============================] - 0s 619us/sample - loss: 26410.6322\n",
      "Epoch 3/100\n",
      "404/404 [==============================] - 0s 464us/sample - loss: 19525.6472\n",
      "Epoch 4/100\n",
      "404/404 [==============================] - 0s 348us/sample - loss: 14049.6891\n",
      "Epoch 5/100\n",
      "404/404 [==============================] - 0s 387us/sample - loss: 9730.0118\n",
      "Epoch 6/100\n",
      "404/404 [==============================] - 0s 425us/sample - loss: 6413.4791\n",
      "Epoch 7/100\n",
      "404/404 [==============================] - 0s 232us/sample - loss: 3953.0234\n",
      "Epoch 8/100\n",
      "404/404 [==============================] - 0s 193us/sample - loss: 2221.3919\n",
      "Epoch 9/100\n",
      "404/404 [==============================] - 0s 193us/sample - loss: 1112.7350\n",
      "Epoch 10/100\n",
      "404/404 [==============================] - 0s 232us/sample - loss: 519.7304\n",
      "Epoch 11/100\n",
      "404/404 [==============================] - 0s 232us/sample - loss: 294.8620\n",
      "Epoch 12/100\n",
      "404/404 [==============================] - 0s 503us/sample - loss: 242.4835\n",
      "Epoch 13/100\n",
      "404/404 [==============================] - 0s 425us/sample - loss: 223.4481\n",
      "Epoch 14/100\n",
      "404/404 [==============================] - 0s 387us/sample - loss: 199.1762\n",
      "Epoch 15/100\n",
      "404/404 [==============================] - 0s 309us/sample - loss: 181.3518\n",
      "Epoch 16/100\n",
      "404/404 [==============================] - 0s 425us/sample - loss: 160.9738\n",
      "Epoch 17/100\n",
      "404/404 [==============================] - 0s 387us/sample - loss: 147.0602\n",
      "Epoch 18/100\n",
      "404/404 [==============================] - 0s 348us/sample - loss: 130.5064\n",
      "Epoch 19/100\n",
      "404/404 [==============================] - 0s 309us/sample - loss: 115.0733\n",
      "Epoch 20/100\n",
      "404/404 [==============================] - 0s 851us/sample - loss: 101.2895\n",
      "Epoch 21/100\n",
      "404/404 [==============================] - 0s 309us/sample - loss: 91.1705\n",
      "Epoch 22/100\n",
      "404/404 [==============================] - 0s 271us/sample - loss: 86.6503\n",
      "Epoch 23/100\n",
      "404/404 [==============================] - 0s 387us/sample - loss: 82.0278\n",
      "Epoch 24/100\n",
      "404/404 [==============================] - 0s 309us/sample - loss: 80.1282\n",
      "Epoch 25/100\n",
      "404/404 [==============================] - 0s 348us/sample - loss: 78.0999\n",
      "Epoch 26/100\n",
      "404/404 [==============================] - 0s 309us/sample - loss: 75.8182\n",
      "Epoch 27/100\n",
      "404/404 [==============================] - 0s 271us/sample - loss: 75.8332\n",
      "Epoch 28/100\n",
      "404/404 [==============================] - 0s 271us/sample - loss: 73.2041\n",
      "Epoch 29/100\n",
      "404/404 [==============================] - 0s 348us/sample - loss: 72.3097\n",
      "Epoch 30/100\n",
      "404/404 [==============================] - 0s 387us/sample - loss: 71.1117\n",
      "Epoch 31/100\n",
      "404/404 [==============================] - 0s 271us/sample - loss: 70.6071\n",
      "Epoch 32/100\n",
      "404/404 [==============================] - 0s 232us/sample - loss: 68.9305\n",
      "Epoch 33/100\n",
      "404/404 [==============================] - 0s 271us/sample - loss: 68.3087\n",
      "Epoch 34/100\n",
      "404/404 [==============================] - 0s 232us/sample - loss: 68.0567\n",
      "Epoch 35/100\n",
      "404/404 [==============================] - 0s 580us/sample - loss: 66.6248\n",
      "Epoch 36/100\n",
      "404/404 [==============================] - 0s 309us/sample - loss: 66.0890\n",
      "Epoch 37/100\n",
      "404/404 [==============================] - 0s 271us/sample - loss: 66.5241\n",
      "Epoch 38/100\n",
      "404/404 [==============================] - 0s 309us/sample - loss: 66.1215\n",
      "Epoch 39/100\n",
      "404/404 [==============================] - 0s 387us/sample - loss: 64.7285\n",
      "Epoch 40/100\n",
      "404/404 [==============================] - 0s 232us/sample - loss: 66.4384\n",
      "Epoch 41/100\n",
      "404/404 [==============================] - 0s 271us/sample - loss: 65.9780\n",
      "Epoch 42/100\n",
      "404/404 [==============================] - 0s 271us/sample - loss: 63.9474\n",
      "Epoch 43/100\n",
      "404/404 [==============================] - 0s 387us/sample - loss: 65.2266\n",
      "Epoch 44/100\n",
      "404/404 [==============================] - 0s 464us/sample - loss: 64.2129\n",
      "Epoch 45/100\n",
      "404/404 [==============================] - 0s 348us/sample - loss: 63.2125\n",
      "Epoch 46/100\n",
      "404/404 [==============================] - 0s 425us/sample - loss: 64.0405\n",
      "Epoch 47/100\n",
      "404/404 [==============================] - 0s 232us/sample - loss: 63.4851\n",
      "Epoch 48/100\n",
      "404/404 [==============================] - 0s 387us/sample - loss: 62.5402\n",
      "Epoch 49/100\n",
      "404/404 [==============================] - 0s 193us/sample - loss: 62.1704\n",
      "Epoch 50/100\n",
      "404/404 [==============================] - 0s 155us/sample - loss: 61.1791\n",
      "Epoch 51/100\n",
      "404/404 [==============================] - 0s 271us/sample - loss: 62.5079\n",
      "Epoch 52/100\n",
      "404/404 [==============================] - 0s 232us/sample - loss: 61.4232\n",
      "Epoch 53/100\n",
      "404/404 [==============================] - 0s 232us/sample - loss: 60.2532\n",
      "Epoch 54/100\n",
      "404/404 [==============================] - 0s 271us/sample - loss: 59.6785\n",
      "Epoch 55/100\n",
      "404/404 [==============================] - 0s 425us/sample - loss: 60.2046\n",
      "Epoch 56/100\n",
      "404/404 [==============================] - 0s 309us/sample - loss: 60.2336\n",
      "Epoch 57/100\n",
      "404/404 [==============================] - 0s 309us/sample - loss: 58.6248\n",
      "Epoch 58/100\n",
      "404/404 [==============================] - 0s 271us/sample - loss: 58.9716\n",
      "Epoch 59/100\n",
      "404/404 [==============================] - 0s 309us/sample - loss: 59.1541\n",
      "Epoch 60/100\n",
      "404/404 [==============================] - 0s 271us/sample - loss: 58.2632\n",
      "Epoch 61/100\n",
      "404/404 [==============================] - 0s 503us/sample - loss: 58.8831\n",
      "Epoch 62/100\n",
      "404/404 [==============================] - 0s 348us/sample - loss: 58.7253\n",
      "Epoch 63/100\n",
      "404/404 [==============================] - 0s 271us/sample - loss: 57.7352\n",
      "Epoch 64/100\n",
      "404/404 [==============================] - 0s 271us/sample - loss: 57.0101\n",
      "Epoch 65/100\n",
      "404/404 [==============================] - 0s 309us/sample - loss: 57.6673\n",
      "Epoch 66/100\n",
      "404/404 [==============================] - 0s 309us/sample - loss: 58.0471\n",
      "Epoch 67/100\n",
      "404/404 [==============================] - 0s 348us/sample - loss: 57.1419\n",
      "Epoch 68/100\n",
      "404/404 [==============================] - 0s 309us/sample - loss: 56.6875\n",
      "Epoch 69/100\n",
      "404/404 [==============================] - 0s 541us/sample - loss: 56.1939\n",
      "Epoch 70/100\n",
      "404/404 [==============================] - 0s 232us/sample - loss: 56.5180\n",
      "Epoch 71/100\n",
      "404/404 [==============================] - 0s 309us/sample - loss: 55.6129\n",
      "Epoch 72/100\n",
      "404/404 [==============================] - 0s 232us/sample - loss: 56.6986\n",
      "Epoch 73/100\n",
      "404/404 [==============================] - 0s 232us/sample - loss: 55.2892\n",
      "Epoch 74/100\n",
      "404/404 [==============================] - 0s 309us/sample - loss: 55.2481\n",
      "Epoch 75/100\n",
      "404/404 [==============================] - 0s 232us/sample - loss: 54.3548\n",
      "Epoch 76/100\n",
      "404/404 [==============================] - 0s 309us/sample - loss: 54.9634\n",
      "Epoch 77/100\n",
      "404/404 [==============================] - 0s 348us/sample - loss: 54.2918\n",
      "Epoch 78/100\n",
      "404/404 [==============================] - 0s 232us/sample - loss: 54.7591\n",
      "Epoch 79/100\n",
      "404/404 [==============================] - 0s 155us/sample - loss: 54.5286\n",
      "Epoch 80/100\n",
      "404/404 [==============================] - 0s 193us/sample - loss: 54.0688\n",
      "Epoch 81/100\n",
      "404/404 [==============================] - 0s 232us/sample - loss: 52.8830\n",
      "Epoch 82/100\n",
      "404/404 [==============================] - 0s 774us/sample - loss: 53.7321\n",
      "Epoch 83/100\n",
      "404/404 [==============================] - 0s 309us/sample - loss: 53.7499\n",
      "Epoch 84/100\n",
      "404/404 [==============================] - 0s 271us/sample - loss: 52.8109\n",
      "Epoch 85/100\n",
      "404/404 [==============================] - 0s 232us/sample - loss: 52.7104\n",
      "Epoch 86/100\n",
      "404/404 [==============================] - 0s 271us/sample - loss: 53.6660\n",
      "Epoch 87/100\n",
      "404/404 [==============================] - 0s 232us/sample - loss: 52.7441\n",
      "Epoch 88/100\n",
      "404/404 [==============================] - 0s 232us/sample - loss: 52.0967\n",
      "Epoch 89/100\n",
      "404/404 [==============================] - 0s 309us/sample - loss: 53.6255\n",
      "Epoch 90/100\n",
      "404/404 [==============================] - 0s 271us/sample - loss: 51.7194\n",
      "Epoch 91/100\n",
      "404/404 [==============================] - 0s 271us/sample - loss: 51.9864\n",
      "Epoch 92/100\n",
      "404/404 [==============================] - ETA: 0s - loss: 53.00 - 0s 193us/sample - loss: 51.9404\n",
      "Epoch 93/100\n",
      "404/404 [==============================] - 0s 271us/sample - loss: 51.8693\n",
      "Epoch 94/100\n",
      "404/404 [==============================] - 0s 851us/sample - loss: 50.5724\n",
      "Epoch 95/100\n",
      "404/404 [==============================] - 0s 464us/sample - loss: 51.3243\n",
      "Epoch 96/100\n",
      "404/404 [==============================] - 0s 309us/sample - loss: 51.3168\n",
      "Epoch 97/100\n",
      "404/404 [==============================] - 0s 271us/sample - loss: 49.4599 - loss: 49.29\n",
      "Epoch 98/100\n",
      "404/404 [==============================] - 0s 232us/sample - loss: 50.7211\n",
      "Epoch 99/100\n",
      "404/404 [==============================] - ETA: 0s - loss: 50.13 - 0s 193us/sample - loss: 50.2769\n",
      "Epoch 100/100\n",
      "404/404 [==============================] - 0s 232us/sample - loss: 50.3817\n"
     ]
    },
    {
     "data": {
      "text/plain": [
       "<tensorflow.python.keras.callbacks.History at 0x26980157cf8>"
      ]
     },
     "execution_count": 19,
     "metadata": {},
     "output_type": "execute_result"
    }
   ],
   "source": [
    "model.fit(x_train, y_train, epochs=1000)"
   ]
  },
  {
   "cell_type": "markdown",
   "metadata": {},
   "source": [
    "### 모델 평가하기-model.evaluate(=test)"
   ]
  },
  {
   "cell_type": "code",
   "execution_count": 6,
   "metadata": {
    "scrolled": true
   },
   "outputs": [
    {
     "name": "stdout",
     "output_type": "stream",
     "text": [
      "102/102 [==============================] - 0s 5ms/sample - loss: 29.6885\n"
     ]
    },
    {
     "data": {
      "text/plain": [
       "29.68848269593482"
      ]
     },
     "execution_count": 6,
     "metadata": {},
     "output_type": "execute_result"
    }
   ],
   "source": [
    "model.evaluate(x_test, y_test)"
   ]
  },
  {
   "cell_type": "code",
   "execution_count": 7,
   "metadata": {},
   "outputs": [
    {
     "name": "stdout",
     "output_type": "stream",
     "text": [
      "(None, 13)\n",
      "(None, 1)\n"
     ]
    }
   ],
   "source": [
    "print(model.input_shape)\n",
    "print(model.output_shape)"
   ]
  },
  {
   "cell_type": "markdown",
   "metadata": {},
   "source": [
    "### 입력을 주고 predict 값 주기- model.predict(=infer)"
   ]
  },
  {
   "cell_type": "code",
   "execution_count": 11,
   "metadata": {},
   "outputs": [
    {
     "data": {
      "text/plain": [
       "array([[209.65605]], dtype=float32)"
      ]
     },
     "execution_count": 11,
     "metadata": {},
     "output_type": "execute_result"
    }
   ],
   "source": [
    "# INPUT::\n",
    "# 1. crim: per capita crime rate by town.\n",
    "# 2. zn: proportion of residential land zoned for lots over 25,000 sq.ft.\n",
    "# 3. indus: proportion of non-retail business acres per town.\n",
    "# 4. chas: Charles River dummy variable (= 1 if tract bounds river; 0 otherwise).\n",
    "# 5. nox: nitrogen oxides concentration (parts per 10 million).\n",
    "# 6. rm: average number of rooms per dwelling.\n",
    "# 7. age: proportion of owner-occupied units built prior to 1940.\n",
    "# 8. dis: weighted mean of distances to five Boston employment centres.\n",
    "# 9. rad: index of accessibility to radial highways.\n",
    "# 10. tax: full-value property-tax rate per $10,000.\n",
    "# 11. ptratio: pupil-teacher ratio by town.\n",
    "# 12. black: 1000(Bk - 0.63)^2 where Bk is the proportion of blacks by town.\n",
    "# 13. lstat: lower status of the population (percent).\n",
    "\n",
    "# TARGET::\n",
    "# medv: median value of owner-occupied homes in $1000s.\n",
    "\n",
    "model.predict(np.array([10, 1, 50, 1, 2, 10, .5, 10, 1000, 100, 10, 100, 1]).reshape(1,13))"
   ]
  },
  {
   "cell_type": "code",
   "execution_count": 10,
   "metadata": {},
   "outputs": [
    {
     "data": {
      "image/png": "[encoded data removed]",
      "text/plain": [
       "<Figure size 432x288 with 13 Axes>"
      ]
     },
     "metadata": {
      "needs_background": "light"
     },
     "output_type": "display_data"
    }
   ],
   "source": [
    "boston_housing=['crim', 'zn', 'indus', 'chas', 'nox', 'rm', 'age', 'dis', 'rad', 'tax', 'ptratio', 'black', 'lstat']\n",
    "for i in range(13):\n",
    "        plt.subplot(3,5, i+1)\n",
    "        plt.plot(x_train[:,i], y_train, '*')\n",
    "        plt.title(boston_housing[i])\n",
    "plt.show()        "
   ]
  },
  {
   "cell_type": "code",
   "execution_count": null,
   "metadata": {},
   "outputs": [],
   "source": []
  }
 ],
 "metadata": {
  "kernelspec": {
   "display_name": "Python 3",
   "language": "python",
   "name": "python3"
  },
  "language_info": {
   "codemirror_mode": {
    "name": "ipython",
    "version": 3
   },
   "file_extension": ".py",
   "mimetype": "text/x-python",
   "name": "python",
   "nbconvert_exporter": "python",
   "pygments_lexer": "ipython3",
   "version": "3.7.1"
  }
 },
 "nbformat": 4,
 "nbformat_minor": 2
}
